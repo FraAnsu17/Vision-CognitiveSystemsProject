{
  "metadata": {
    "accelerator": "GPU",
    "colab": {
      "provenance": [],
      "name": "notebook8ba3f5ca80"
    },
    "kernelspec": {
      "name": "python3",
      "display_name": "Python 3",
      "language": "python"
    },
    "language_info": {
      "name": "python",
      "version": "3.10.12",
      "mimetype": "text/x-python",
      "codemirror_mode": {
        "name": "ipython",
        "version": 3
      },
      "pygments_lexer": "ipython3",
      "nbconvert_exporter": "python",
      "file_extension": ".py"
    },
    "kaggle": {
      "accelerator": "nvidiaTeslaT4",
      "dataSources": [
        {
          "sourceId": 1217826,
          "sourceType": "datasetVersion",
          "datasetId": 298806
        },
        {
          "sourceId": 7493487,
          "sourceType": "datasetVersion",
          "datasetId": 4363161
        },
        {
          "sourceId": 7501418,
          "sourceType": "datasetVersion",
          "datasetId": 4368180
        }
      ],
      "dockerImageVersionId": 30636,
      "isInternetEnabled": true,
      "language": "python",
      "sourceType": "notebook",
      "isGpuEnabled": true
    }
  },
  "nbformat_minor": 0,
  "nbformat": 4,
  "cells": [
    {
      "source": [
        "\n",
        "# IMPORTANT: RUN THIS CELL IN ORDER TO IMPORT YOUR KAGGLE DATA SOURCES\n",
        "# TO THE CORRECT LOCATION (/kaggle/input) IN YOUR NOTEBOOK,\n",
        "# THEN FEEL FREE TO DELETE THIS CELL.\n",
        "# NOTE: THIS NOTEBOOK ENVIRONMENT DIFFERS FROM KAGGLE'S PYTHON\n",
        "# ENVIRONMENT SO THERE MAY BE MISSING LIBRARIES USED BY YOUR\n",
        "# NOTEBOOK.\n",
        "\n",
        "import os\n",
        "import sys\n",
        "from tempfile import NamedTemporaryFile\n",
        "from urllib.request import urlopen\n",
        "from urllib.parse import unquote, urlparse\n",
        "from urllib.error import HTTPError\n",
        "from zipfile import ZipFile\n",
        "import tarfile\n",
        "import shutil\n",
        "\n",
        "CHUNK_SIZE = 40960\n",
        "DATA_SOURCE_MAPPING = 'landscape-pictures:https%3A%2F%2Fstorage.googleapis.com%2Fkaggle-data-sets%2F298806%2F1217826%2Fbundle%2Farchive.zip%3FX-Goog-Algorithm%3DGOOG4-RSA-SHA256%26X-Goog-Credential%3Dgcp-kaggle-com%2540kaggle-161607.iam.gserviceaccount.com%252F20240206%252Fauto%252Fstorage%252Fgoog4_request%26X-Goog-Date%3D20240206T115724Z%26X-Goog-Expires%3D259200%26X-Goog-SignedHeaders%3Dhost%26X-Goog-Signature%3D8366a8afe309c500abc31625f4098cb9cf4aa481e19518083781d1718db841888411066447950ca7bad0c5ccbb5fb7a679479b68bc1337b771ba3b11adb364ba887f3b12aa17026e75d633c20f672de96cce9c4984c647db74c8b06fb3587b2e92a9eb379797c732823caae55c546e9a556fd5dfe22b34fbed71fe0cf3c11534d517980ef338c87c77adb92b96cba70b1cd4f46f1ce529a2be8e1f127a21a6b0f766ed63e67731ffca065f51d0749438c2a3f3452a0904c94a89936fecba5ba1efc5463762cb5ba9428fd8288ceba553991e659287e381e0fcf6617cab2b3b1cd1f414b239e4e264d5e42bdebafaf45ad5af95a2cfc3ac5be637c17f95771612'\n",
        "\n",
        "KAGGLE_INPUT_PATH='/kaggle/input'\n",
        "KAGGLE_WORKING_PATH='/kaggle/working'\n",
        "KAGGLE_SYMLINK='kaggle'\n",
        "\n",
        "!umount /kaggle/input/ 2> /dev/null\n",
        "shutil.rmtree('/kaggle/input', ignore_errors=True)\n",
        "os.makedirs(KAGGLE_INPUT_PATH, 0o777, exist_ok=True)\n",
        "os.makedirs(KAGGLE_WORKING_PATH, 0o777, exist_ok=True)\n",
        "\n",
        "try:\n",
        "  os.symlink(KAGGLE_INPUT_PATH, os.path.join(\"..\", 'input'), target_is_directory=True)\n",
        "except FileExistsError:\n",
        "  pass\n",
        "try:\n",
        "  os.symlink(KAGGLE_WORKING_PATH, os.path.join(\"..\", 'working'), target_is_directory=True)\n",
        "except FileExistsError:\n",
        "  pass\n",
        "\n",
        "for data_source_mapping in DATA_SOURCE_MAPPING.split(','):\n",
        "    directory, download_url_encoded = data_source_mapping.split(':')\n",
        "    download_url = unquote(download_url_encoded)\n",
        "    filename = urlparse(download_url).path\n",
        "    destination_path = os.path.join(KAGGLE_INPUT_PATH, directory)\n",
        "    try:\n",
        "        with urlopen(download_url) as fileres, NamedTemporaryFile() as tfile:\n",
        "            total_length = fileres.headers['content-length']\n",
        "            print(f'Downloading {directory}, {total_length} bytes compressed')\n",
        "            dl = 0\n",
        "            data = fileres.read(CHUNK_SIZE)\n",
        "            while len(data) > 0:\n",
        "                dl += len(data)\n",
        "                tfile.write(data)\n",
        "                done = int(50 * dl / int(total_length))\n",
        "                sys.stdout.write(f\"\\r[{'=' * done}{' ' * (50-done)}] {dl} bytes downloaded\")\n",
        "                sys.stdout.flush()\n",
        "                data = fileres.read(CHUNK_SIZE)\n",
        "            if filename.endswith('.zip'):\n",
        "              with ZipFile(tfile) as zfile:\n",
        "                zfile.extractall(destination_path)\n",
        "            else:\n",
        "              with tarfile.open(tfile.name) as tarfile:\n",
        "                tarfile.extractall(destination_path)\n",
        "            print(f'\\nDownloaded and uncompressed: {directory}')\n",
        "    except HTTPError as e:\n",
        "        print(f'Failed to load (likely expired) {download_url} to path {destination_path}')\n",
        "        continue\n",
        "    except OSError as e:\n",
        "        print(f'Failed to load {download_url} to path {destination_path}')\n",
        "        continue\n",
        "\n",
        "print('Data source import complete.')\n"
      ],
      "metadata": {
        "id": "zcLw6TkER-5m"
      },
      "cell_type": "code",
      "outputs": [],
      "execution_count": null
    },
    {
      "cell_type": "code",
      "source": [
        "import torchvision\n",
        "import torchvision.transforms as transforms\n",
        "from torch.utils.data import DataLoader\n",
        "import torch\n",
        "import matplotlib.pyplot as plt\n",
        "import numpy as np\n",
        "import os\n",
        "from PIL import Image, ImageFile\n",
        "import shutil\n",
        "from sklearn.model_selection import train_test_split\n",
        "from skimage.metrics import peak_signal_noise_ratio as psnr\n",
        "from skimage.metrics import structural_similarity as ssim\n",
        "import cv2"
      ],
      "metadata": {
        "id": "YiH0guLE5qfL",
        "execution": {
          "iopub.status.busy": "2024-01-29T18:00:19.580191Z",
          "iopub.execute_input": "2024-01-29T18:00:19.580957Z",
          "iopub.status.idle": "2024-01-29T18:00:19.830278Z",
          "shell.execute_reply.started": "2024-01-29T18:00:19.580925Z",
          "shell.execute_reply": "2024-01-29T18:00:19.829213Z"
        },
        "trusted": true
      },
      "execution_count": null,
      "outputs": []
    },
    {
      "cell_type": "code",
      "source": [
        "from keras.applications.inception_resnet_v2 import InceptionResNetV2, preprocess_input\n",
        "from keras.models import Model, load_model,Sequential\n",
        "from keras.preprocessing.image import ImageDataGenerator\n",
        "from keras.layers import Input, Dense, UpSampling2D, RepeatVector, Reshape\n",
        "from keras.layers import Dropout, Lambda\n",
        "from keras.layers import Conv2D, Conv2DTranspose\n",
        "from keras.layers import MaxPooling2D\n",
        "from keras.layers import concatenate\n",
        "from keras.callbacks import EarlyStopping, ModelCheckpoint, ReduceLROnPlateau\n",
        "from keras import backend as K\n",
        "\n",
        "from skimage.color import rgb2lab, lab2rgb, rgb2gray, gray2rgb\n",
        "from skimage.transform import resize\n",
        "\n",
        "import tensorflow as tf\n",
        "from tensorflow.keras.utils import img_to_array, load_img\n",
        "from tensorflow.keras.utils import plot_model"
      ],
      "metadata": {
        "id": "u1lrsNxW61ms",
        "execution": {
          "iopub.status.busy": "2024-01-29T17:41:47.447059Z",
          "iopub.execute_input": "2024-01-29T17:41:47.44756Z",
          "iopub.status.idle": "2024-01-29T17:42:01.637579Z",
          "shell.execute_reply.started": "2024-01-29T17:41:47.447527Z",
          "shell.execute_reply": "2024-01-29T17:42:01.636444Z"
        },
        "trusted": true
      },
      "execution_count": null,
      "outputs": []
    },
    {
      "cell_type": "code",
      "source": [
        "# Load full train and test sets\n",
        "train_imgs = np.load(\"/kaggle/input/landscapes/train_set.npy\")\n",
        "test_imgs = np.load(\"/kaggle/input/landscapes/test_set.npy\")\n",
        "\n",
        "print(train_imgs.shape)\n",
        "print(test_imgs.shape)"
      ],
      "metadata": {
        "execution": {
          "iopub.status.busy": "2024-01-29T17:42:01.639119Z",
          "iopub.execute_input": "2024-01-29T17:42:01.639898Z",
          "iopub.status.idle": "2024-01-29T17:42:41.378751Z",
          "shell.execute_reply.started": "2024-01-29T17:42:01.639865Z",
          "shell.execute_reply": "2024-01-29T17:42:41.377694Z"
        },
        "trusted": true,
        "id": "so5uyHzaR-5w"
      },
      "execution_count": null,
      "outputs": []
    },
    {
      "cell_type": "code",
      "source": [
        "TRAIN_SIZE = 600\n",
        "TEST_SIZE = 100\n",
        "EPOCHS = 1200\n",
        "batch_size = 64"
      ],
      "metadata": {
        "execution": {
          "iopub.status.busy": "2024-01-29T17:42:41.381872Z",
          "iopub.execute_input": "2024-01-29T17:42:41.382596Z",
          "iopub.status.idle": "2024-01-29T17:42:41.387142Z",
          "shell.execute_reply.started": "2024-01-29T17:42:41.382564Z",
          "shell.execute_reply": "2024-01-29T17:42:41.386039Z"
        },
        "trusted": true,
        "id": "aF4aWkmBR-5w"
      },
      "execution_count": null,
      "outputs": []
    },
    {
      "cell_type": "code",
      "source": [
        "c_train = (train_imgs[:TRAIN_SIZE])/255\n",
        "c_test = (test_imgs[:TEST_SIZE])/255\n",
        "\n",
        "print(c_train.shape)\n",
        "print(c_test.shape)"
      ],
      "metadata": {
        "execution": {
          "iopub.status.busy": "2024-01-29T17:42:41.388535Z",
          "iopub.execute_input": "2024-01-29T17:42:41.389041Z",
          "iopub.status.idle": "2024-01-29T17:42:41.659687Z",
          "shell.execute_reply.started": "2024-01-29T17:42:41.389002Z",
          "shell.execute_reply": "2024-01-29T17:42:41.65849Z"
        },
        "trusted": true,
        "id": "UXzgnDvzR-5x"
      },
      "execution_count": null,
      "outputs": []
    },
    {
      "cell_type": "code",
      "source": [
        "for i, img in enumerate(c_train[:5]):\n",
        "    plt.subplot(1, 5, i+1)\n",
        "    plt.imshow(img)\n",
        "    plt.axis('off')\n",
        "plt.show()\n"
      ],
      "metadata": {
        "id": "HE7MiBIL61mw",
        "execution": {
          "iopub.status.busy": "2024-01-29T17:42:41.6629Z",
          "iopub.execute_input": "2024-01-29T17:42:41.663535Z",
          "iopub.status.idle": "2024-01-29T17:42:41.989255Z",
          "shell.execute_reply.started": "2024-01-29T17:42:41.663506Z",
          "shell.execute_reply": "2024-01-29T17:42:41.988174Z"
        },
        "trusted": true
      },
      "execution_count": null,
      "outputs": []
    },
    {
      "cell_type": "code",
      "source": [
        "inception = InceptionResNetV2(include_top=True)"
      ],
      "metadata": {
        "id": "GOIfIlJZ61my",
        "execution": {
          "iopub.status.busy": "2024-01-29T17:42:41.990405Z",
          "iopub.execute_input": "2024-01-29T17:42:41.990703Z",
          "iopub.status.idle": "2024-01-29T17:42:51.207503Z",
          "shell.execute_reply.started": "2024-01-29T17:42:41.990676Z",
          "shell.execute_reply": "2024-01-29T17:42:51.206453Z"
        },
        "trusted": true
      },
      "execution_count": null,
      "outputs": []
    },
    {
      "cell_type": "code",
      "source": [
        "def execution():\n",
        "    embed_input = Input(shape=(1000,))\n",
        "\n",
        "    encoder_input = Input(shape=(224, 224, 1,))\n",
        "\n",
        "    encoder_output = Conv2D(64, (3,3), activation='relu', padding='same', strides=2)(encoder_input)\n",
        "    encoder_output = Conv2D(128, (3,3), activation='relu', padding='same')(encoder_output)\n",
        "    encoder_output = Conv2D(128, (3,3), activation='relu', padding='same', strides=2)(encoder_output)\n",
        "    encoder_output = Conv2D(256, (3,3), activation='relu', padding='same')(encoder_output)\n",
        "    encoder_output = Conv2D(256, (3,3), activation='relu', padding='same', strides=2)(encoder_output)\n",
        "    encoder_output = Conv2D(512, (3,3), activation='relu', padding='same')(encoder_output)\n",
        "    encoder_output = Conv2D(512, (3,3), activation='relu', padding='same')(encoder_output)\n",
        "    encoder_output = Conv2D(256, (3,3), activation='relu', padding='same')(encoder_output)\n",
        "\n",
        "    fusion_output = RepeatVector(28 * 28)(embed_input)\n",
        "    fusion_output = Reshape(([28, 28, 1000]))(fusion_output)\n",
        "    fusion_output = concatenate([encoder_output, fusion_output], axis=3)\n",
        "    fusion_output = Conv2D(256, (1, 1), activation='relu', padding='same')(fusion_output)\n",
        "\n",
        "    decoder_output = Conv2D(128, (3,3), activation='relu', padding='same')(fusion_output)\n",
        "\n",
        "    #decoder_output = Conv2D(128, (3,3), activation='relu', padding='same')(encoder_output)\n",
        "\n",
        "    decoder_output = UpSampling2D((2, 2))(decoder_output)\n",
        "    decoder_output = Conv2D(64, (3,3), activation='relu', padding='same')(decoder_output)\n",
        "    decoder_output = UpSampling2D((2, 2))(decoder_output)\n",
        "    decoder_output = Conv2D(32, (3,3), activation='relu', padding='same')(decoder_output)\n",
        "    decoder_output = Conv2D(16, (3,3), activation='relu', padding='same')(decoder_output)\n",
        "    decoder_output = Conv2D(2, (3, 3), activation='tanh', padding='same')(decoder_output)\n",
        "    decoder_output = UpSampling2D((2, 2))(decoder_output)\n",
        "\n",
        "    return Model(inputs=[encoder_input, embed_input], outputs=decoder_output)\n",
        "    #return Model(inputs=encoder_input, outputs=decoder_output)"
      ],
      "metadata": {
        "id": "wxdY64CQ61my",
        "execution": {
          "iopub.status.busy": "2024-01-29T17:42:51.209006Z",
          "iopub.execute_input": "2024-01-29T17:42:51.209646Z",
          "iopub.status.idle": "2024-01-29T17:42:51.224091Z",
          "shell.execute_reply.started": "2024-01-29T17:42:51.209609Z",
          "shell.execute_reply": "2024-01-29T17:42:51.223021Z"
        },
        "trusted": true
      },
      "execution_count": null,
      "outputs": []
    },
    {
      "cell_type": "code",
      "source": [
        "model = execution()\n",
        "model.compile(optimizer='adam', loss='mse')\n",
        "model.summary()"
      ],
      "metadata": {
        "id": "J2v84eBg61mz",
        "execution": {
          "iopub.status.busy": "2024-01-29T17:42:51.225781Z",
          "iopub.execute_input": "2024-01-29T17:42:51.226416Z",
          "iopub.status.idle": "2024-01-29T17:42:51.531488Z",
          "shell.execute_reply.started": "2024-01-29T17:42:51.226378Z",
          "shell.execute_reply": "2024-01-29T17:42:51.530478Z"
        },
        "trusted": true
      },
      "execution_count": null,
      "outputs": []
    },
    {
      "cell_type": "code",
      "source": [
        "plot_model(model, show_shapes = True)"
      ],
      "metadata": {
        "id": "L5vO8G7-61mz",
        "execution": {
          "iopub.status.busy": "2024-01-29T17:42:51.535373Z",
          "iopub.execute_input": "2024-01-29T17:42:51.535686Z",
          "iopub.status.idle": "2024-01-29T17:42:51.903433Z",
          "shell.execute_reply.started": "2024-01-29T17:42:51.535659Z",
          "shell.execute_reply": "2024-01-29T17:42:51.902434Z"
        },
        "trusted": true
      },
      "execution_count": null,
      "outputs": []
    },
    {
      "cell_type": "code",
      "source": [
        "def inception_embedding(bw_imgs):\n",
        "    grayscaled_rgb_resized = []\n",
        "    for i in bw_imgs:\n",
        "        i = resize(i, (299, 299))\n",
        "        grayscaled_rgb_resized.append(i)\n",
        "    grayscaled_rgb_resized = np.array(grayscaled_rgb_resized)\n",
        "    grayscaled_rgb_resized = preprocess_input(grayscaled_rgb_resized)\n",
        "    embed = inception.predict(grayscaled_rgb_resized)\n",
        "    return embed"
      ],
      "metadata": {
        "id": "P4tRfrjM61m0",
        "execution": {
          "iopub.status.busy": "2024-01-29T17:42:51.904701Z",
          "iopub.execute_input": "2024-01-29T17:42:51.905051Z",
          "iopub.status.idle": "2024-01-29T17:42:51.912172Z",
          "shell.execute_reply.started": "2024-01-29T17:42:51.90502Z",
          "shell.execute_reply": "2024-01-29T17:42:51.910759Z"
        },
        "trusted": true
      },
      "execution_count": null,
      "outputs": []
    },
    {
      "cell_type": "code",
      "source": [
        "# Image transformer\n",
        "datagen = ImageDataGenerator(\n",
        "        shear_range=0.4,\n",
        "        zoom_range=0.4,\n",
        "        rotation_range=40,\n",
        "        horizontal_flip=True)\n",
        "\n",
        "#Generate training data\n"
      ],
      "metadata": {
        "id": "rX7I4L5m61m0",
        "execution": {
          "iopub.status.busy": "2024-01-29T17:42:51.913704Z",
          "iopub.execute_input": "2024-01-29T17:42:51.91406Z",
          "iopub.status.idle": "2024-01-29T17:42:51.924661Z",
          "shell.execute_reply.started": "2024-01-29T17:42:51.914028Z",
          "shell.execute_reply": "2024-01-29T17:42:51.923185Z"
        },
        "trusted": true
      },
      "execution_count": null,
      "outputs": []
    },
    {
      "cell_type": "code",
      "source": [
        "def create_input(size):\n",
        "    for batch in datagen.flow(c_train, batch_size=batch_size):\n",
        "        grayscaled_rgb = gray2rgb(rgb2gray(batch))\n",
        "        embed = inception_embedding(grayscaled_rgb)\n",
        "        lab_batch = rgb2lab(batch)\n",
        "        X_batch = lab_batch[:,:,:,0]\n",
        "        X_batch = X_batch.reshape(X_batch.shape+(1,))\n",
        "        Y_batch = lab_batch[:,:,:,1:] / 128\n",
        "        yield ([X_batch, inception_embedding(grayscaled_rgb)], Y_batch)"
      ],
      "metadata": {
        "id": "0my6IbVC61m1",
        "execution": {
          "iopub.status.busy": "2024-01-29T17:42:51.926249Z",
          "iopub.execute_input": "2024-01-29T17:42:51.926625Z",
          "iopub.status.idle": "2024-01-29T17:42:51.937223Z",
          "shell.execute_reply.started": "2024-01-29T17:42:51.926594Z",
          "shell.execute_reply": "2024-01-29T17:42:51.936186Z"
        },
        "trusted": true
      },
      "execution_count": null,
      "outputs": []
    },
    {
      "cell_type": "code",
      "source": [
        "test_input = gray2rgb(rgb2gray(c_test))\n",
        "test_embed = inception_embedding(test_input)\n",
        "test_input = rgb2lab(test_input)[:,:,:,0]\n",
        "test_input = test_input.reshape(test_input.shape+(1,))"
      ],
      "metadata": {
        "id": "3GzydWNu61m2",
        "execution": {
          "iopub.status.busy": "2024-01-29T17:42:51.938576Z",
          "iopub.execute_input": "2024-01-29T17:42:51.938957Z",
          "iopub.status.idle": "2024-01-29T17:43:06.36934Z",
          "shell.execute_reply.started": "2024-01-29T17:42:51.938927Z",
          "shell.execute_reply": "2024-01-29T17:43:06.368402Z"
        },
        "trusted": true
      },
      "execution_count": null,
      "outputs": []
    },
    {
      "cell_type": "code",
      "source": [
        "model.fit(create_input(batch_size), steps_per_epoch=1, epochs=EPOCHS)"
      ],
      "metadata": {
        "id": "nUDebOHu61m1",
        "execution": {
          "iopub.status.busy": "2024-01-29T17:43:06.370618Z",
          "iopub.execute_input": "2024-01-29T17:43:06.370921Z",
          "iopub.status.idle": "2024-01-29T17:44:01.301664Z",
          "shell.execute_reply.started": "2024-01-29T17:43:06.370894Z",
          "shell.execute_reply": "2024-01-29T17:44:01.300704Z"
        },
        "trusted": true
      },
      "execution_count": null,
      "outputs": []
    },
    {
      "cell_type": "code",
      "source": [
        "output = (model.predict([test_input, test_embed])) * 128"
      ],
      "metadata": {
        "id": "s-aLfjVhSOaS",
        "execution": {
          "iopub.status.busy": "2024-01-29T17:44:01.302825Z",
          "iopub.execute_input": "2024-01-29T17:44:01.303147Z",
          "iopub.status.idle": "2024-01-29T17:44:05.93909Z",
          "shell.execute_reply.started": "2024-01-29T17:44:01.303122Z",
          "shell.execute_reply": "2024-01-29T17:44:05.938154Z"
        },
        "trusted": true
      },
      "execution_count": null,
      "outputs": []
    },
    {
      "cell_type": "code",
      "source": [
        "os.makedirs('/kaggle/working/my_images', exist_ok=True)"
      ],
      "metadata": {
        "execution": {
          "iopub.status.busy": "2024-01-29T17:59:51.488348Z",
          "iopub.execute_input": "2024-01-29T17:59:51.488762Z",
          "iopub.status.idle": "2024-01-29T17:59:51.494764Z",
          "shell.execute_reply.started": "2024-01-29T17:59:51.488725Z",
          "shell.execute_reply": "2024-01-29T17:59:51.493722Z"
        },
        "trusted": true,
        "id": "kFV3mu3qR-56"
      },
      "execution_count": null,
      "outputs": []
    },
    {
      "cell_type": "code",
      "source": [
        "mean_SSIM = 0\n",
        "mean_PSNR = 0\n",
        "\n",
        "# Iterate over the test samples\n",
        "for i in range(len(test_input)):\n",
        "    # Create a figure with subplots\n",
        "    print(f\"\\n-------------- Image {i} --------------------------\")\n",
        "\n",
        "    fig, axes = plt.subplots(1, 3, figsize=(18, 6))\n",
        "\n",
        "    # Original black and white image\n",
        "    axes[0].imshow(test_input[i], cmap='gray')\n",
        "    axes[0].set_title('Original BW Image')\n",
        "    axes[0].axis('off')\n",
        "\n",
        "    # True colored image (replace 'true_color_images' with your actual data)\n",
        "    axes[1].imshow(c_test[i])\n",
        "    axes[1].set_title('True Color Image')\n",
        "    axes[1].axis('off')\n",
        "\n",
        "    # Colorized image from the model\n",
        "    canvas = np.zeros((224, 224, 3))\n",
        "    canvas[:,:,0] = test_input[i][:,:,0]\n",
        "    canvas[:,:,1:] = output[i]\n",
        "    colorized_image = lab2rgb(canvas)\n",
        "    axes[2].imshow(colorized_image)\n",
        "    axes[2].set_title('Colorized Image')\n",
        "    axes[2].axis('off')\n",
        "\n",
        "    PSNR = psnr(c_test[i],colorized_image)\n",
        "    mean_PSNR += PSNR\n",
        "    print(f\"PSNR {i}: {PSNR} db\")\n",
        "\n",
        "    SSIM = ssim(c_test[i], colorized_image, data_range=1, channel_axis=-1)\n",
        "    mean_SSIM += SSIM\n",
        "    print(f\"SSIM {i}: {SSIM}\")\n",
        "\n",
        "\n",
        "    # Display the figure\n",
        "    plt.show()\n",
        "\n",
        "    cv2.imwrite(f'/kaggle/working/my_images/image_{i}.jpg', colorized_image*255)\n"
      ],
      "metadata": {
        "id": "X7POv8-i61m2",
        "execution": {
          "iopub.status.busy": "2024-01-29T18:00:27.181719Z",
          "iopub.execute_input": "2024-01-29T18:00:27.182502Z",
          "iopub.status.idle": "2024-01-29T18:00:27.906833Z",
          "shell.execute_reply.started": "2024-01-29T18:00:27.182467Z",
          "shell.execute_reply": "2024-01-29T18:00:27.905821Z"
        },
        "trusted": true
      },
      "execution_count": null,
      "outputs": []
    },
    {
      "cell_type": "code",
      "source": [
        "print(f\"Mean PSNR for the test set: {mean_PSNR/TEST_SIZE} db\")\n",
        "print(f\"Mean SSIM for the test set: {mean_SSIM/TEST_SIZE}\")"
      ],
      "metadata": {
        "execution": {
          "iopub.status.busy": "2024-01-29T17:44:06.940384Z",
          "iopub.status.idle": "2024-01-29T17:44:06.940888Z",
          "shell.execute_reply.started": "2024-01-29T17:44:06.94064Z",
          "shell.execute_reply": "2024-01-29T17:44:06.940663Z"
        },
        "trusted": true,
        "id": "DPiwrftqR-57"
      },
      "execution_count": null,
      "outputs": []
    }
  ]
}